{
 "cells": [
  {
   "cell_type": "code",
   "execution_count": 1,
   "metadata": {},
   "outputs": [],
   "source": [
    "import gzip\n",
    "import json\n",
    "import pandas as pd\n",
    "import re\n",
    "import enum\n",
    "from sqlalchemy import MetaData, Table, Column, Integer, String, Boolean, Text, Float, TIMESTAMP, Enum\n",
    "from db_utils import *\n"
   ]
  },
  {
   "cell_type": "markdown",
   "metadata": {},
   "source": [
    "## 1. Review Existing Unstructured Data and Diagram a New Structured Relational Data Model\n"
   ]
  },
  {
   "cell_type": "markdown",
   "metadata": {},
   "source": [
    "### 1a. Read json data into DataFrame Objects"
   ]
  },
  {
   "cell_type": "code",
   "execution_count": 2,
   "metadata": {},
   "outputs": [],
   "source": [
    "jsonFiles = [\"brands.json.gz\", \"receipts.json.gz\", \"users.json.gz\"]\n",
    "\n",
    "def readJsonGz(file_path):\n",
    "    \"\"\"\n",
    "    Given a path to a json.gz file, `file_path`\n",
    "    Read the data into a normalized pandas DataFrame object\n",
    "\n",
    "    Args:\n",
    "        file_path(str): The path to a gzip file\n",
    "\n",
    "    Returns:\n",
    "        a pandas DataFrame object containing data in `file_path`\n",
    "    \"\"\"\n",
    "\n",
    "    with gzip.open(file_path, 'r') as data_file:    \n",
    "        # data = json.load(data_file)  \n",
    "        data = data_file.read()\n",
    "\n",
    "    data = data.decode(\"utf-8\")\n",
    "    lines = data.split('\\n')\n",
    "\n",
    "    for i, line in enumerate(lines):\n",
    "        if line.strip():  # Skip empty lines\n",
    "            try:\n",
    "                json.loads(line)\n",
    "            except json.JSONDecodeError as e:\n",
    "                print(f\"Invalid JSON on line {i+1}: {e}\")\n",
    "                print(f\"Content: {line}\")\n",
    "                break\n",
    "\n",
    "    data = \"[\" + \",\".join(line for line in lines if line.strip()) + \"]\"\n",
    "    data = json.loads(data)\n",
    "    normalized_data = pd.json_normalize(data)\n",
    "    return normalized_data\n",
    "\n",
    "def extractData(line):\n",
    "    \"\"\"\n",
    "    Use regex to extract data wrapped between '{' and '}' in an input string.\n",
    "    Args: \n",
    "        line(str): The data stored in a line of json file\n",
    "\n",
    "    Returns: \n",
    "        substring of `line`, contains characters wrapped around by {}\n",
    "    \"\"\"\n",
    "    pattern = r'\\{.*\\}'\n",
    "\n",
    "    # Search for the pattern in the input string\n",
    "    match = re.search(pattern, line)\n",
    "    json_object =\"\"\n",
    "\n",
    "    if match:\n",
    "        json_object = match.group(0)\n",
    "    return json_object\n",
    "\n",
    "\n",
    "def read_json_gz_skip_gzip_lines(file_path):\n",
    "    \"\"\"\n",
    "    Given a path to a json.gz file, `file_path`\n",
    "    Read the data into a json object and return\n",
    "\n",
    "    Args:\n",
    "        file_path(str): The path to a gzip file\n",
    "        \n",
    "    Returns:\n",
    "        a json object containing data in `file_path`\n",
    "    \"\"\"\n",
    "    valid_lines = []\n",
    "\n",
    "    # Open the gzip file\n",
    "    with gzip.open(file_path, 'r') as f:\n",
    "        d = f.read()\n",
    "        lines = d.decode(\"utf-8\").split(\"\\n\")\n",
    "        valid_lines = []\n",
    "        for line in lines:\n",
    "            extracted = extractData(line)\n",
    "            if extracted != \"\":\n",
    "                valid_lines.append(extracted)\n",
    "    json_string =  \"[\" + \",\".join(valid_lines) + \"]\"\n",
    "    data = json.loads(json_string)\n",
    "    \n",
    "    return data\n",
    "\n",
    "rewardsReceiptItemsLst = []\n",
    "num_nan = 0\n",
    "\n",
    "\n",
    "def normalize_rewardsReceiptItems(row, dest = rewardsReceiptItemsLst):\n",
    "    \"\"\"\n",
    "    Extract 'reward receipt item' from column `rewardsReceiptItemList`\n",
    "    and map receipt id to each item.\n",
    "\n",
    "    Args:\n",
    "        row(Pandas series): a pandas series sliced from a dataframe as a row\n",
    "        dest(list): a list where each processed item will be appended to\n",
    "    \n",
    "    Returns:\n",
    "        None\n",
    "    \"\"\"\n",
    "    global num_nan\n",
    "    receipt_id = row[\"_id\"]\n",
    "    rewardsReceiptItemList = row[\"rewardsReceiptItemList\"]\n",
    "    if pd.isna(rewardsReceiptItemList).all() if isinstance(rewardsReceiptItemList, (list, pd.Series)) else pd.isna(rewardsReceiptItemList):\n",
    "        num_nan += 1\n",
    "        return \n",
    "    new_row = pd.json_normalize(rewardsReceiptItemList)\n",
    "    new_row[\"receiptId\"] = receipt_id\n",
    "    new_row[\"dateScanned\"] = row[\"dateScanned\"]\n",
    "    new_row[\"userId\"] = row[\"userId\"]\n",
    "\n",
    "    dest.append(new_row)\n",
    "\n"
   ]
  },
  {
   "cell_type": "markdown",
   "metadata": {},
   "source": [
    "Found that users.json.gz is not able to be imported due to unexpected symbols.  \n",
    "Unzip it, and try to investigate"
   ]
  },
  {
   "cell_type": "code",
   "execution_count": 3,
   "metadata": {},
   "outputs": [
    {
     "name": "stdout",
     "output_type": "stream",
     "text": [
      "Invalid JSON on line 1: Expecting value: line 1 column 1 (char 0)\n",
      "Content: users.json\u0000\u0000\u0000\u0000\u0000\u0000\u0000\u0000\u0000\u0000\u0000\u0000\u0000\u0000\u0000\u0000\u0000\u0000\u0000\u0000\u0000\u0000\u0000\u0000\u0000\u0000\u0000\u0000\u0000\u0000\u0000\u0000\u0000\u0000\u0000\u0000\u0000\u0000\u0000\u0000\u0000\u0000\u0000\u0000\u0000\u0000\u0000\u0000\u0000\u0000\u0000\u0000\u0000\u0000\u0000\u0000\u0000\u0000\u0000\u0000\u0000\u0000\u0000\u0000\u0000\u0000\u0000\u0000\u0000\u0000\u0000\u0000\u0000\u0000\u0000\u0000\u0000\u0000\u0000\u0000\u0000\u0000\u0000\u0000\u0000\u0000\u0000\u0000\u0000\u00000100777\u00000000000\u00000000000\u000000000254301\u000014567170355\u0000010072\u0000 0\u0000\u0000\u0000\u0000\u0000\u0000\u0000\u0000\u0000\u0000\u0000\u0000\u0000\u0000\u0000\u0000\u0000\u0000\u0000\u0000\u0000\u0000\u0000\u0000\u0000\u0000\u0000\u0000\u0000\u0000\u0000\u0000\u0000\u0000\u0000\u0000\u0000\u0000\u0000\u0000\u0000\u0000\u0000\u0000\u0000\u0000\u0000\u0000\u0000\u0000\u0000\u0000\u0000\u0000\u0000\u0000\u0000\u0000\u0000\u0000\u0000\u0000\u0000\u0000\u0000\u0000\u0000\u0000\u0000\u0000\u0000\u0000\u0000\u0000\u0000\u0000\u0000\u0000\u0000\u0000\u0000\u0000\u0000\u0000\u0000\u0000\u0000\u0000\u0000\u0000\u0000\u0000\u0000\u0000\u0000\u0000\u0000\u0000\u0000\u0000ustar\u000000\u0000\u0000\u0000\u0000\u0000\u0000\u0000\u0000\u0000\u0000\u0000\u0000\u0000\u0000\u0000\u0000\u0000\u0000\u0000\u0000\u0000\u0000\u0000\u0000\u0000\u0000\u0000\u0000\u0000\u0000\u0000\u0000\u0000\u0000\u0000\u0000\u0000\u0000\u0000\u0000\u0000\u0000\u0000\u0000\u0000\u0000\u0000\u0000\u0000\u0000\u0000\u0000\u0000\u0000\u0000\u0000\u0000\u0000\u0000\u0000\u0000\u0000\u0000\u0000\u0000\u0000\u0000\u0000\u0000\u0000\u0000\u0000\u0000\u0000\u0000\u0000\u0000\u0000\u0000\u0000\u0000\u0000\u0000\u0000\u0000\u0000\u0000\u0000\u0000\u0000\u0000\u0000\u0000\u0000\u0000\u0000\u0000\u0000\u0000\u0000\u0000\u0000\u0000\u0000\u0000\u0000\u0000\u0000\u0000\u0000\u0000\u0000\u0000\u0000\u0000\u0000\u0000\u0000\u0000\u0000\u0000\u0000\u0000\u0000\u0000\u0000\u0000\u0000\u0000\u0000\u0000\u0000\u0000\u0000\u0000\u0000\u0000\u0000\u0000\u0000\u0000\u0000\u0000\u0000\u0000\u0000\u0000\u0000\u0000\u0000\u0000\u0000\u0000\u0000\u0000\u0000\u0000\u0000\u0000\u0000\u0000\u0000\u0000\u0000\u0000\u0000\u0000\u0000\u0000\u0000\u0000\u0000\u0000\u0000\u0000\u0000\u0000\u0000\u0000\u0000\u0000\u0000\u0000\u0000\u0000\u0000\u0000\u0000\u0000\u0000\u0000\u0000\u0000\u0000\u0000\u0000\u0000\u0000\u0000\u0000\u0000\u0000\u0000\u0000\u0000\u0000\u0000\u0000\u0000\u0000\u0000\u0000\u0000\u0000\u0000\u0000\u0000\u0000\u0000\u0000\u0000\u0000\u0000\u0000\u0000\u0000\u0000\u0000\u0000\u0000\u0000\u0000\u0000\u0000\u0000\u0000\u0000\u0000\u0000\u0000\u0000\u0000\u0000\u0000\u0000\u0000\u0000{\"_id\":{\"$oid\":\"5ff1e194b6a9d73a3a9f1052\"},\"active\":true,\"createdDate\":{\"$date\":1609687444800},\"lastLogin\":{\"$date\":1609687537858},\"role\":\"consumer\",\"signUpSource\":\"Email\",\"state\":\"WI\"}\n",
      "Expecting value: line 1 column 2 (char 1)\n",
      "Fail to read users.json.gz\n",
      "\n"
     ]
    }
   ],
   "source": [
    "dataDict = {}\n",
    "for file in jsonFiles:\n",
    "    try:\n",
    "        data= readJsonGz(file)\n",
    "        dataDict[file.split(\".\")[0]] = data\n",
    "    except json.JSONDecodeError as e:\n",
    "        print(e)\n",
    "        print(\"Fail to read {}\\n\".format(file))\n"
   ]
  },
  {
   "cell_type": "code",
   "execution_count": 4,
   "metadata": {},
   "outputs": [],
   "source": [
    "# !gzip -dk users.json.gz"
   ]
  },
  {
   "cell_type": "markdown",
   "metadata": {},
   "source": [
    "Opened the users.json file and found that  \n",
    "1)  in the first line,\n",
    "there're bunch of \"\\x00\" characters in front of a actual data row.  \n",
    "2) In the last row, it's full of \"\\x00\".  \n",
    "Therefore, created a function `read_json_gz_skip_gzip_lines` to extract data placed between \"{}\" in each line"
   ]
  },
  {
   "cell_type": "code",
   "execution_count": 5,
   "metadata": {},
   "outputs": [
    {
     "data": {
      "text/plain": [
       "dict_keys(['brands', 'receipts', 'users'])"
      ]
     },
     "execution_count": 5,
     "metadata": {},
     "output_type": "execute_result"
    }
   ],
   "source": [
    "file = jsonFiles[2]\n",
    "try:\n",
    "    data= read_json_gz_skip_gzip_lines(file)\n",
    "    dataDict[file.split(\".\")[0]] = pd.json_normalize(data)\n",
    "except json.JSONDecodeError:\n",
    "    print(e)\n",
    "    print(file)\n",
    "dataDict.keys()"
   ]
  },
  {
   "cell_type": "code",
   "execution_count": 6,
   "metadata": {},
   "outputs": [
    {
     "data": {
      "text/plain": [
       "dict_keys(['brands', 'receipts', 'users'])"
      ]
     },
     "execution_count": 6,
     "metadata": {},
     "output_type": "execute_result"
    }
   ],
   "source": [
    "dataDict.keys()"
   ]
  },
  {
   "cell_type": "code",
   "execution_count": 7,
   "metadata": {},
   "outputs": [],
   "source": [
    "def cleanColName(col):\n",
    "    splitted = col.split(\".\")\n",
    "    if len(splitted) <= 2:\n",
    "        return splitted[0]\n",
    "    else:\n",
    "        return col.replace(\"$\", \"\").replace(\".\", \"_\")"
   ]
  },
  {
   "cell_type": "code",
   "execution_count": 8,
   "metadata": {},
   "outputs": [],
   "source": [
    "# Load raw processed data from dataDict\n",
    "brandsData = dataDict[\"brands\"]\n",
    "receiptsData = dataDict[\"receipts\"]\n",
    "usersData = dataDict[\"users\"]\n",
    "\n",
    "# Clean user table columns\n",
    "usersData.role = usersData.role.apply(str.upper)\n",
    "usersDataRenameCols = {col: cleanColName(col) for col in usersData.columns if \".\" in col}\n",
    "usersData = usersData.rename(columns=usersDataRenameCols)\n",
    "\n",
    "# Clean brand table columns\n",
    "brandsDataRenameCols = {'_id.$oid': '_id',\n",
    "                        'cpg.$id.$oid': 'cpg_id_oid', 'cpg.$ref': 'cpg_ref'}\n",
    "brandsData = brandsData.rename(columns=brandsDataRenameCols)\n",
    "\n",
    "# Clean receipt table columns\n",
    "receiptsDataRenameCols = {col: cleanColName(col) for col in receiptsData.columns if \".\" in col}\n",
    "receiptsData = receiptsData.rename(columns=receiptsDataRenameCols)\n",
    "\n",
    "# Convert all date columns to date object\n",
    "for col in ['createdDate','lastLogin']:\n",
    "    usersData[col] = pd.to_datetime(usersData[col], unit=\"ms\")\n",
    "\n",
    "# Convert all date columns to date object\n",
    "for col in ['createDate', 'dateScanned',\n",
    "        'finishedDate', 'modifyDate', \n",
    "        'pointsAwardedDate', 'purchaseDate']:\n",
    "    receiptsData[col] = pd.to_datetime(receiptsData[col], unit=\"ms\")"
   ]
  },
  {
   "cell_type": "markdown",
   "metadata": {},
   "source": [
    "Found that Receipt dataframe has a column that contains list of other objects: *rewardsReceiptItemList*"
   ]
  },
  {
   "cell_type": "code",
   "execution_count": 9,
   "metadata": {},
   "outputs": [
    {
     "data": {
      "text/html": [
       "<div>\n",
       "<style scoped>\n",
       "    .dataframe tbody tr th:only-of-type {\n",
       "        vertical-align: middle;\n",
       "    }\n",
       "\n",
       "    .dataframe tbody tr th {\n",
       "        vertical-align: top;\n",
       "    }\n",
       "\n",
       "    .dataframe thead th {\n",
       "        text-align: right;\n",
       "    }\n",
       "</style>\n",
       "<table border=\"1\" class=\"dataframe\">\n",
       "  <thead>\n",
       "    <tr style=\"text-align: right;\">\n",
       "      <th></th>\n",
       "      <th>bonusPointsEarned</th>\n",
       "      <th>bonusPointsEarnedReason</th>\n",
       "      <th>pointsEarned</th>\n",
       "      <th>purchasedItemCount</th>\n",
       "      <th>rewardsReceiptItemList</th>\n",
       "      <th>rewardsReceiptStatus</th>\n",
       "      <th>totalSpent</th>\n",
       "      <th>userId</th>\n",
       "      <th>_id</th>\n",
       "      <th>createDate</th>\n",
       "      <th>dateScanned</th>\n",
       "      <th>finishedDate</th>\n",
       "      <th>modifyDate</th>\n",
       "      <th>pointsAwardedDate</th>\n",
       "      <th>purchaseDate</th>\n",
       "    </tr>\n",
       "  </thead>\n",
       "  <tbody>\n",
       "    <tr>\n",
       "      <th>0</th>\n",
       "      <td>500.0</td>\n",
       "      <td>Receipt number 2 completed, bonus point schedu...</td>\n",
       "      <td>500.0</td>\n",
       "      <td>5.0</td>\n",
       "      <td>[{'barcode': '4011', 'description': 'ITEM NOT ...</td>\n",
       "      <td>FINISHED</td>\n",
       "      <td>26.00</td>\n",
       "      <td>5ff1e1eacfcf6c399c274ae6</td>\n",
       "      <td>5ff1e1eb0a720f0523000575</td>\n",
       "      <td>2021-01-03 15:25:31</td>\n",
       "      <td>2021-01-03 15:25:31</td>\n",
       "      <td>2021-01-03 15:25:31</td>\n",
       "      <td>2021-01-03 15:25:36</td>\n",
       "      <td>2021-01-03 15:25:31</td>\n",
       "      <td>2021-01-03 00:00:00</td>\n",
       "    </tr>\n",
       "    <tr>\n",
       "      <th>1</th>\n",
       "      <td>150.0</td>\n",
       "      <td>Receipt number 5 completed, bonus point schedu...</td>\n",
       "      <td>150.0</td>\n",
       "      <td>2.0</td>\n",
       "      <td>[{'barcode': '4011', 'description': 'ITEM NOT ...</td>\n",
       "      <td>FINISHED</td>\n",
       "      <td>11.00</td>\n",
       "      <td>5ff1e194b6a9d73a3a9f1052</td>\n",
       "      <td>5ff1e1bb0a720f052300056b</td>\n",
       "      <td>2021-01-03 15:24:43</td>\n",
       "      <td>2021-01-03 15:24:43</td>\n",
       "      <td>2021-01-03 15:24:43</td>\n",
       "      <td>2021-01-03 15:24:48</td>\n",
       "      <td>2021-01-03 15:24:43</td>\n",
       "      <td>2021-01-02 15:24:43</td>\n",
       "    </tr>\n",
       "    <tr>\n",
       "      <th>2</th>\n",
       "      <td>5.0</td>\n",
       "      <td>All-receipts receipt bonus</td>\n",
       "      <td>5</td>\n",
       "      <td>1.0</td>\n",
       "      <td>[{'needsFetchReview': False, 'partnerItemId': ...</td>\n",
       "      <td>REJECTED</td>\n",
       "      <td>10.00</td>\n",
       "      <td>5ff1e1f1cfcf6c399c274b0b</td>\n",
       "      <td>5ff1e1f10a720f052300057a</td>\n",
       "      <td>2021-01-03 15:25:37</td>\n",
       "      <td>2021-01-03 15:25:37</td>\n",
       "      <td>NaT</td>\n",
       "      <td>2021-01-03 15:25:42</td>\n",
       "      <td>NaT</td>\n",
       "      <td>2021-01-03 00:00:00</td>\n",
       "    </tr>\n",
       "    <tr>\n",
       "      <th>3</th>\n",
       "      <td>5.0</td>\n",
       "      <td>All-receipts receipt bonus</td>\n",
       "      <td>5.0</td>\n",
       "      <td>4.0</td>\n",
       "      <td>[{'barcode': '4011', 'description': 'ITEM NOT ...</td>\n",
       "      <td>FINISHED</td>\n",
       "      <td>28.00</td>\n",
       "      <td>5ff1e1eacfcf6c399c274ae6</td>\n",
       "      <td>5ff1e1ee0a7214ada100056f</td>\n",
       "      <td>2021-01-03 15:25:34</td>\n",
       "      <td>2021-01-03 15:25:34</td>\n",
       "      <td>2021-01-03 15:25:34</td>\n",
       "      <td>2021-01-03 15:25:39</td>\n",
       "      <td>2021-01-03 15:25:34</td>\n",
       "      <td>2021-01-03 00:00:00</td>\n",
       "    </tr>\n",
       "    <tr>\n",
       "      <th>4</th>\n",
       "      <td>5.0</td>\n",
       "      <td>All-receipts receipt bonus</td>\n",
       "      <td>5.0</td>\n",
       "      <td>2.0</td>\n",
       "      <td>[{'barcode': '4011', 'description': 'ITEM NOT ...</td>\n",
       "      <td>FINISHED</td>\n",
       "      <td>1.00</td>\n",
       "      <td>5ff1e194b6a9d73a3a9f1052</td>\n",
       "      <td>5ff1e1d20a7214ada1000561</td>\n",
       "      <td>2021-01-03 15:25:06</td>\n",
       "      <td>2021-01-03 15:25:06</td>\n",
       "      <td>2021-01-03 15:25:11</td>\n",
       "      <td>2021-01-03 15:25:11</td>\n",
       "      <td>2021-01-03 15:25:06</td>\n",
       "      <td>2021-01-02 15:25:06</td>\n",
       "    </tr>\n",
       "  </tbody>\n",
       "</table>\n",
       "</div>"
      ],
      "text/plain": [
       "   bonusPointsEarned                            bonusPointsEarnedReason  \\\n",
       "0              500.0  Receipt number 2 completed, bonus point schedu...   \n",
       "1              150.0  Receipt number 5 completed, bonus point schedu...   \n",
       "2                5.0                         All-receipts receipt bonus   \n",
       "3                5.0                         All-receipts receipt bonus   \n",
       "4                5.0                         All-receipts receipt bonus   \n",
       "\n",
       "  pointsEarned  purchasedItemCount  \\\n",
       "0        500.0                 5.0   \n",
       "1        150.0                 2.0   \n",
       "2            5                 1.0   \n",
       "3          5.0                 4.0   \n",
       "4          5.0                 2.0   \n",
       "\n",
       "                              rewardsReceiptItemList rewardsReceiptStatus  \\\n",
       "0  [{'barcode': '4011', 'description': 'ITEM NOT ...             FINISHED   \n",
       "1  [{'barcode': '4011', 'description': 'ITEM NOT ...             FINISHED   \n",
       "2  [{'needsFetchReview': False, 'partnerItemId': ...             REJECTED   \n",
       "3  [{'barcode': '4011', 'description': 'ITEM NOT ...             FINISHED   \n",
       "4  [{'barcode': '4011', 'description': 'ITEM NOT ...             FINISHED   \n",
       "\n",
       "  totalSpent                    userId                       _id  \\\n",
       "0      26.00  5ff1e1eacfcf6c399c274ae6  5ff1e1eb0a720f0523000575   \n",
       "1      11.00  5ff1e194b6a9d73a3a9f1052  5ff1e1bb0a720f052300056b   \n",
       "2      10.00  5ff1e1f1cfcf6c399c274b0b  5ff1e1f10a720f052300057a   \n",
       "3      28.00  5ff1e1eacfcf6c399c274ae6  5ff1e1ee0a7214ada100056f   \n",
       "4       1.00  5ff1e194b6a9d73a3a9f1052  5ff1e1d20a7214ada1000561   \n",
       "\n",
       "           createDate         dateScanned        finishedDate  \\\n",
       "0 2021-01-03 15:25:31 2021-01-03 15:25:31 2021-01-03 15:25:31   \n",
       "1 2021-01-03 15:24:43 2021-01-03 15:24:43 2021-01-03 15:24:43   \n",
       "2 2021-01-03 15:25:37 2021-01-03 15:25:37                 NaT   \n",
       "3 2021-01-03 15:25:34 2021-01-03 15:25:34 2021-01-03 15:25:34   \n",
       "4 2021-01-03 15:25:06 2021-01-03 15:25:06 2021-01-03 15:25:11   \n",
       "\n",
       "           modifyDate   pointsAwardedDate        purchaseDate  \n",
       "0 2021-01-03 15:25:36 2021-01-03 15:25:31 2021-01-03 00:00:00  \n",
       "1 2021-01-03 15:24:48 2021-01-03 15:24:43 2021-01-02 15:24:43  \n",
       "2 2021-01-03 15:25:42                 NaT 2021-01-03 00:00:00  \n",
       "3 2021-01-03 15:25:39 2021-01-03 15:25:34 2021-01-03 00:00:00  \n",
       "4 2021-01-03 15:25:11 2021-01-03 15:25:06 2021-01-02 15:25:06  "
      ]
     },
     "execution_count": 9,
     "metadata": {},
     "output_type": "execute_result"
    }
   ],
   "source": [
    "receiptsData.head()"
   ]
  },
  {
   "cell_type": "code",
   "execution_count": 10,
   "metadata": {},
   "outputs": [
    {
     "data": {
      "text/html": [
       "<div>\n",
       "<style scoped>\n",
       "    .dataframe tbody tr th:only-of-type {\n",
       "        vertical-align: middle;\n",
       "    }\n",
       "\n",
       "    .dataframe tbody tr th {\n",
       "        vertical-align: top;\n",
       "    }\n",
       "\n",
       "    .dataframe thead th {\n",
       "        text-align: right;\n",
       "    }\n",
       "</style>\n",
       "<table border=\"1\" class=\"dataframe\">\n",
       "  <thead>\n",
       "    <tr style=\"text-align: right;\">\n",
       "      <th></th>\n",
       "      <th>barcode</th>\n",
       "      <th>description</th>\n",
       "      <th>finalPrice</th>\n",
       "      <th>itemPrice</th>\n",
       "      <th>needsFetchReview</th>\n",
       "      <th>partnerItemId</th>\n",
       "      <th>preventTargetGapPoints</th>\n",
       "      <th>quantityPurchased</th>\n",
       "      <th>userFlaggedBarcode</th>\n",
       "      <th>userFlaggedNewItem</th>\n",
       "      <th>...</th>\n",
       "      <th>itemNumber</th>\n",
       "      <th>originalMetaBriteQuantityPurchased</th>\n",
       "      <th>pointsEarned</th>\n",
       "      <th>targetPrice</th>\n",
       "      <th>competitiveProduct</th>\n",
       "      <th>originalFinalPrice</th>\n",
       "      <th>originalMetaBriteItemPrice</th>\n",
       "      <th>deleted</th>\n",
       "      <th>priceAfterCoupon</th>\n",
       "      <th>metabriteCampaignId</th>\n",
       "    </tr>\n",
       "  </thead>\n",
       "  <tbody>\n",
       "    <tr>\n",
       "      <th>0</th>\n",
       "      <td>4011</td>\n",
       "      <td>ITEM NOT FOUND</td>\n",
       "      <td>26.00</td>\n",
       "      <td>26.00</td>\n",
       "      <td>False</td>\n",
       "      <td>1</td>\n",
       "      <td>True</td>\n",
       "      <td>5.0</td>\n",
       "      <td>4011</td>\n",
       "      <td>True</td>\n",
       "      <td>...</td>\n",
       "      <td>NaN</td>\n",
       "      <td>NaN</td>\n",
       "      <td>NaN</td>\n",
       "      <td>NaN</td>\n",
       "      <td>NaN</td>\n",
       "      <td>NaN</td>\n",
       "      <td>NaN</td>\n",
       "      <td>NaN</td>\n",
       "      <td>NaN</td>\n",
       "      <td>NaN</td>\n",
       "    </tr>\n",
       "    <tr>\n",
       "      <th>1</th>\n",
       "      <td>4011</td>\n",
       "      <td>ITEM NOT FOUND</td>\n",
       "      <td>1</td>\n",
       "      <td>1</td>\n",
       "      <td>NaN</td>\n",
       "      <td>1</td>\n",
       "      <td>NaN</td>\n",
       "      <td>1.0</td>\n",
       "      <td>NaN</td>\n",
       "      <td>NaN</td>\n",
       "      <td>...</td>\n",
       "      <td>NaN</td>\n",
       "      <td>NaN</td>\n",
       "      <td>NaN</td>\n",
       "      <td>NaN</td>\n",
       "      <td>NaN</td>\n",
       "      <td>NaN</td>\n",
       "      <td>NaN</td>\n",
       "      <td>NaN</td>\n",
       "      <td>NaN</td>\n",
       "      <td>NaN</td>\n",
       "    </tr>\n",
       "    <tr>\n",
       "      <th>2</th>\n",
       "      <td>028400642255</td>\n",
       "      <td>DORITOS TORTILLA CHIP SPICY SWEET CHILI REDUCE...</td>\n",
       "      <td>10.00</td>\n",
       "      <td>10.00</td>\n",
       "      <td>True</td>\n",
       "      <td>2</td>\n",
       "      <td>True</td>\n",
       "      <td>1.0</td>\n",
       "      <td>028400642255</td>\n",
       "      <td>True</td>\n",
       "      <td>...</td>\n",
       "      <td>NaN</td>\n",
       "      <td>NaN</td>\n",
       "      <td>NaN</td>\n",
       "      <td>NaN</td>\n",
       "      <td>NaN</td>\n",
       "      <td>NaN</td>\n",
       "      <td>NaN</td>\n",
       "      <td>NaN</td>\n",
       "      <td>NaN</td>\n",
       "      <td>NaN</td>\n",
       "    </tr>\n",
       "    <tr>\n",
       "      <th>3</th>\n",
       "      <td>NaN</td>\n",
       "      <td>NaN</td>\n",
       "      <td>NaN</td>\n",
       "      <td>NaN</td>\n",
       "      <td>False</td>\n",
       "      <td>1</td>\n",
       "      <td>True</td>\n",
       "      <td>NaN</td>\n",
       "      <td>4011</td>\n",
       "      <td>True</td>\n",
       "      <td>...</td>\n",
       "      <td>NaN</td>\n",
       "      <td>NaN</td>\n",
       "      <td>NaN</td>\n",
       "      <td>NaN</td>\n",
       "      <td>NaN</td>\n",
       "      <td>NaN</td>\n",
       "      <td>NaN</td>\n",
       "      <td>NaN</td>\n",
       "      <td>NaN</td>\n",
       "      <td>NaN</td>\n",
       "    </tr>\n",
       "    <tr>\n",
       "      <th>4</th>\n",
       "      <td>4011</td>\n",
       "      <td>ITEM NOT FOUND</td>\n",
       "      <td>28.00</td>\n",
       "      <td>28.00</td>\n",
       "      <td>False</td>\n",
       "      <td>1</td>\n",
       "      <td>True</td>\n",
       "      <td>4.0</td>\n",
       "      <td>4011</td>\n",
       "      <td>True</td>\n",
       "      <td>...</td>\n",
       "      <td>NaN</td>\n",
       "      <td>NaN</td>\n",
       "      <td>NaN</td>\n",
       "      <td>NaN</td>\n",
       "      <td>NaN</td>\n",
       "      <td>NaN</td>\n",
       "      <td>NaN</td>\n",
       "      <td>NaN</td>\n",
       "      <td>NaN</td>\n",
       "      <td>NaN</td>\n",
       "    </tr>\n",
       "  </tbody>\n",
       "</table>\n",
       "<p>5 rows × 37 columns</p>\n",
       "</div>"
      ],
      "text/plain": [
       "        barcode                                        description finalPrice  \\\n",
       "0          4011                                     ITEM NOT FOUND      26.00   \n",
       "1          4011                                     ITEM NOT FOUND          1   \n",
       "2  028400642255  DORITOS TORTILLA CHIP SPICY SWEET CHILI REDUCE...      10.00   \n",
       "3           NaN                                                NaN        NaN   \n",
       "4          4011                                     ITEM NOT FOUND      28.00   \n",
       "\n",
       "  itemPrice needsFetchReview partnerItemId preventTargetGapPoints  \\\n",
       "0     26.00            False             1                   True   \n",
       "1         1              NaN             1                    NaN   \n",
       "2     10.00             True             2                   True   \n",
       "3       NaN            False             1                   True   \n",
       "4     28.00            False             1                   True   \n",
       "\n",
       "   quantityPurchased userFlaggedBarcode userFlaggedNewItem  ... itemNumber  \\\n",
       "0                5.0               4011               True  ...        NaN   \n",
       "1                1.0                NaN                NaN  ...        NaN   \n",
       "2                1.0       028400642255               True  ...        NaN   \n",
       "3                NaN               4011               True  ...        NaN   \n",
       "4                4.0               4011               True  ...        NaN   \n",
       "\n",
       "   originalMetaBriteQuantityPurchased pointsEarned targetPrice  \\\n",
       "0                                 NaN          NaN         NaN   \n",
       "1                                 NaN          NaN         NaN   \n",
       "2                                 NaN          NaN         NaN   \n",
       "3                                 NaN          NaN         NaN   \n",
       "4                                 NaN          NaN         NaN   \n",
       "\n",
       "  competitiveProduct originalFinalPrice originalMetaBriteItemPrice deleted  \\\n",
       "0                NaN                NaN                        NaN     NaN   \n",
       "1                NaN                NaN                        NaN     NaN   \n",
       "2                NaN                NaN                        NaN     NaN   \n",
       "3                NaN                NaN                        NaN     NaN   \n",
       "4                NaN                NaN                        NaN     NaN   \n",
       "\n",
       "  priceAfterCoupon metabriteCampaignId  \n",
       "0              NaN                 NaN  \n",
       "1              NaN                 NaN  \n",
       "2              NaN                 NaN  \n",
       "3              NaN                 NaN  \n",
       "4              NaN                 NaN  \n",
       "\n",
       "[5 rows x 37 columns]"
      ]
     },
     "execution_count": 10,
     "metadata": {},
     "output_type": "execute_result"
    }
   ],
   "source": [
    "# Receipts table has a column that contains list of other objects\n",
    "receiptsData.apply(normalize_rewardsReceiptItems, axis = 1)\n",
    "rewardsReceiptItems = pd.concat(rewardsReceiptItemsLst, ignore_index= True)\n",
    "rewardsReceiptItems.head()"
   ]
  },
  {
   "cell_type": "markdown",
   "metadata": {},
   "source": [
    "Validate data integrity after applying data extraction to receipt table"
   ]
  },
  {
   "cell_type": "code",
   "execution_count": 11,
   "metadata": {},
   "outputs": [
    {
     "name": "stdout",
     "output_type": "stream",
     "text": [
      "\n",
      "During extracting receipt reward items, found 440 receipts that has missing value in column 'receiptsRewordsItemList'\n",
      "\n",
      "Matched with actual missing values in the column: True\n",
      "\n",
      "Total number of receipt rewards items extracted: 6941\n",
      "\n",
      "\n"
     ]
    }
   ],
   "source": [
    "actual_nan_rri = receiptsData[\"_id\"].count() - receiptsData.rewardsReceiptItemList.count()\n",
    "\n",
    "report1 = \"\"\"\n",
    "During extracting receipt reward items, found {} receipts that has missing value in column 'receiptsRewordsItemList'\\n\n",
    "Matched with actual missing values in the column: {}\\n\n",
    "Total number of receipt rewards items extracted: {}\\n\n",
    "\"\"\"\n",
    "print(report1.format(num_nan, actual_nan_rri == num_nan, rewardsReceiptItems.shape[0] ))\n"
   ]
  },
  {
   "cell_type": "code",
   "execution_count": 12,
   "metadata": {},
   "outputs": [
    {
     "data": {
      "text/plain": [
       "Index(['bonusPointsEarned', 'bonusPointsEarnedReason', 'pointsEarned',\n",
       "       'purchasedItemCount', 'rewardsReceiptItemList', 'rewardsReceiptStatus',\n",
       "       'totalSpent', 'userId', '_id', 'createDate', 'dateScanned',\n",
       "       'finishedDate', 'modifyDate', 'pointsAwardedDate', 'purchaseDate'],\n",
       "      dtype='object')"
      ]
     },
     "execution_count": 12,
     "metadata": {},
     "output_type": "execute_result"
    }
   ],
   "source": [
    "receiptsData.columns"
   ]
  },
  {
   "cell_type": "code",
   "execution_count": 13,
   "metadata": {},
   "outputs": [],
   "source": [
    "# Since rewardsReceiptItemList has been extracted and saved to a table,\n",
    "# drop this column from receipt table\n",
    "receiptsCols = ['bonusPointsEarned', 'bonusPointsEarnedReason', 'pointsEarned',\n",
    "                'purchasedItemCount', 'rewardsReceiptStatus',\n",
    "                'totalSpent', 'userId', '_id', 'createDate',\n",
    "                'dateScanned', 'finishedDate', 'modifyDate',\n",
    "                'pointsAwardedDate', 'purchaseDate']\n",
    "receiptsData = receiptsData[receiptsCols]"
   ]
  },
  {
   "cell_type": "code",
   "execution_count": 14,
   "metadata": {},
   "outputs": [
    {
     "name": "stdout",
     "output_type": "stream",
     "text": [
      "Connection to MySQL DB successful\n"
     ]
    }
   ],
   "source": [
    "# Connect to database\n",
    "\n",
    "db = 'fetch_db'\n",
    "host = 'database-1.crgewaiyut90.us-east-2.rds.amazonaws.com'\n",
    "user = 'admin'\n",
    "pw = 'wP7Fkg4jn7kEj'\n",
    "\n",
    "conn = create_connection(host, user, pw, db)\n",
    "engine = create_sqlalchemy_engine(user, pw, host, db)\n"
   ]
  },
  {
   "cell_type": "markdown",
   "metadata": {},
   "source": [
    "Create database in the MySQL server"
   ]
  },
  {
   "cell_type": "code",
   "execution_count": 15,
   "metadata": {},
   "outputs": [
    {
     "name": "stdout",
     "output_type": "stream",
     "text": [
      "Query executed successfully\n"
     ]
    }
   ],
   "source": [
    "# create_db_query = f\"\"\"CREATE DATABASE {db}\"\"\"\n",
    "use_db_query = f\"\"\"USE {db}\"\"\"\n",
    "\n",
    "execute_query(conn, use_db_query)"
   ]
  },
  {
   "cell_type": "markdown",
   "metadata": {},
   "source": [
    "Load tables into Database"
   ]
  },
  {
   "cell_type": "markdown",
   "metadata": {},
   "source": [
    "a) Load user table into Database"
   ]
  },
  {
   "cell_type": "code",
   "execution_count": 16,
   "metadata": {},
   "outputs": [
    {
     "name": "stdout",
     "output_type": "stream",
     "text": [
      "['FINISHED', 'REJECTED', 'FLAGGED', 'SUBMITTED', 'PENDING']\n",
      "['CONSUMER', 'FETCH-STAFF']\n"
     ]
    }
   ],
   "source": [
    "print(list(receiptsData.rewardsReceiptStatus.unique()))\n",
    "print(list(usersData.role.unique()))\n"
   ]
  },
  {
   "cell_type": "code",
   "execution_count": 17,
   "metadata": {},
   "outputs": [],
   "source": [
    "class RewardsStatus(enum.Enum):\n",
    "    FINISHED = \"FINISHED\"\n",
    "    SUBMITTED = \"SUBMITTED\"\n",
    "    REJECTED = \"REJECTED\"\n",
    "    PENDING = \"PENDING\"\n",
    "    FLAGGED = \"FLAGGED\"\n",
    "\n",
    "class UserRole(enum.Enum):\n",
    "    CONSUMER = \"CONSUMER\"\n",
    "    FETCH_STAFF = \"FETCH_STAFF\"\n",
    "\n",
    "USER_TABLE = \"User\"\n",
    "RECEIPT_TABLE = \"Receipt\"\n",
    "BRAND_TABLE = \"Brand\"\n",
    "ITEM_TABLE = \"ReceiptRewardItem\"\n",
    "\n",
    "\n",
    "\n",
    "metadata = MetaData()\n",
    "\n",
    "# Define the table schema\n",
    "user_table = Table(\n",
    "    USER_TABLE, metadata,\n",
    "    Column('active', Boolean),\n",
    "    Column('role', Enum(UserRole, name=\"UserRole\")),\n",
    "    Column('signUpSource', Text),\n",
    "    Column('state', Text),\n",
    "    Column('_id',  String(255), primary_key=True),\n",
    "    Column('createdDate', TIMESTAMP),\n",
    "    Column('lastLogin', TIMESTAMP)\n",
    ")\n",
    "\n",
    "\n",
    "# Define the table schema\n",
    "receipt_table = Table(\n",
    "    RECEIPT_TABLE, metadata,\n",
    "    Column('_id', String(255), primary_key=True),\n",
    "    Column('bonusPointsEarned', Integer),\n",
    "    Column('bonusPointsEarnedReason', Text),\n",
    "    Column('pointsEarned', Integer),\n",
    "    Column('purchasedItemCount', Integer),\n",
    "    Column('totalSpent', Float),\n",
    "    Column('userId', String(255)),\n",
    "    Column('rewardsReceiptStatus', Enum(RewardsStatus, name=\"RewardsStatus\")),\n",
    "    Column('createDate', TIMESTAMP),\n",
    "    Column('dateScanned', TIMESTAMP),\n",
    "    Column('finishedDate', TIMESTAMP),\n",
    "    Column('modifyDate', TIMESTAMP),\n",
    "    Column('pointsAwardedDate', TIMESTAMP),\n",
    "    Column('purchaseDate', TIMESTAMP)\n",
    ")\n",
    "\n",
    "brand_table = Table(\n",
    "    BRAND_TABLE, metadata,\n",
    "    Column('_id',  String(255), primary_key=True),\n",
    "    Column('barcode', String(255)),\n",
    "    Column('category', String(255)),\n",
    "    Column('categoryCode', String(255)),\n",
    "    Column('name', String(255)),\n",
    "    Column('topBrand', Boolean),\n",
    "    Column('cpg_id_oid', String(255)),\n",
    "    Column('cpg_ref', String(255)),\n",
    "    Column('brandCode', String(255))\n",
    ")\n",
    "\n",
    "receipt_reward_item = Table(\n",
    "    ITEM_TABLE, metadata,\n",
    "    Column('barcode', String(255)),\n",
    "    Column('brandCode', String(255)),\n",
    "    Column('receiptId', String(255)),\n",
    "    Column('userId', String(255)),\n",
    "    Column('dateScanned', TIMESTAMP),\n",
    "    Column('partnerItemId', String(255)),\n",
    "    Column('pointsPayerId', String(255)),\n",
    "    Column('rewardsProductPartnerId', String(255)),\n",
    "    Column('metabriteCampaignId', String(255)),\n",
    "    Column('description', String(255)),\n",
    "    Column('finalPrice', Float),\n",
    "    Column('itemPrice', Float),\n",
    "    Column('needsFetchReview', Boolean),\n",
    "    Column('preventTargetGapPoints', Boolean),\n",
    "    Column('quantityPurchased', Integer),\n",
    "    Column('userFlaggedBarcode', String(255)),\n",
    "    Column('userFlaggedNewItem', Boolean),\n",
    "    Column('userFlaggedPrice', Float),\n",
    "    Column('userFlaggedQuantity', Integer),\n",
    "    Column('needsFetchReviewReason', String(255)),\n",
    "    Column('pointsNotAwardedReason', String(255)),\n",
    "    Column('rewardsGroup', String(255)),\n",
    "    Column('userFlaggedDescription', String(255)),\n",
    "    Column('originalMetaBriteBarcode', String(255)),\n",
    "    Column('originalMetaBriteDescription', String(255)),\n",
    "    Column('competitorRewardsGroup', String(255)),\n",
    "    Column('discountedItemPrice', Float),\n",
    "    Column('originalReceiptItemText', String(255)),\n",
    "    Column('itemNumber', String(255)),\n",
    "    Column('originalMetaBriteQuantityPurchased', Integer),\n",
    "    Column('pointsEarned', Float),\n",
    "    Column('targetPrice', Float),\n",
    "    Column('competitiveProduct', Boolean),\n",
    "    Column('originalFinalPrice', Float),\n",
    "    Column('originalMetaBriteItemPrice', Float),\n",
    "    Column('deleted', Boolean),\n",
    "    Column('priceAfterCoupon', Float)\n",
    ")\n",
    "\n",
    "metadata.create_all(engine)"
   ]
  },
  {
   "cell_type": "code",
   "execution_count": 18,
   "metadata": {},
   "outputs": [],
   "source": [
    "# Add foreign key constraints, during this process, \n",
    "# I found that not all use ids referenced in Receipt table exist in the User table, therefore, here can't apply this constraint\n",
    "# set_constraint_receipt_query = f\"\"\"\n",
    "#         ALTER TABLE {RECEIPT_TABLE}\n",
    "#         ADD FOREIGN KEY (userId) REFERENCES User(_id);\"\"\"\n",
    "\n",
    "set_constraint_item_query = f\"\"\"\n",
    "        ALTER TABLE {ITEM_TABLE}\n",
    "        ADD FOREIGN KEY (receiptId) REFERENCES Receipt(_id);\"\"\"\n",
    "\n",
    "# set_constraint_item_query2 = f\"\"\"\n",
    "#         ALTER TABLE {ITEM_TABLE}\n",
    "#         ADD FOREIGN KEY (userId) REFERENCES User(_id);\"\"\""
   ]
  },
  {
   "cell_type": "code",
   "execution_count": 19,
   "metadata": {},
   "outputs": [
    {
     "name": "stdout",
     "output_type": "stream",
     "text": [
      "Query executed successfully\n"
     ]
    }
   ],
   "source": [
    "# execute_query(conn, set_constraint_receipt_query)\n",
    "execute_query(conn, set_constraint_item_query)\n",
    "# execute_query(conn, set_constraint_item_query2)\n"
   ]
  },
  {
   "cell_type": "code",
   "execution_count": 20,
   "metadata": {},
   "outputs": [
    {
     "data": {
      "text/plain": [
       "role\n",
       "CONSUMER       413\n",
       "FETCH-STAFF     82\n",
       "Name: count, dtype: int64"
      ]
     },
     "execution_count": 20,
     "metadata": {},
     "output_type": "execute_result"
    }
   ],
   "source": [
    "usersData.role.value_counts()"
   ]
  },
  {
   "cell_type": "code",
   "execution_count": 21,
   "metadata": {},
   "outputs": [
    {
     "data": {
      "text/plain": [
       "_id\n",
       "54943462e4b07e684157a532    20\n",
       "5fc961c3b8cfca11a077dd33    20\n",
       "5ff5d15aeb7c7d12096d91a2    18\n",
       "5fa41775898c7a11a6bcef3e    18\n",
       "59c124bae4b0299e55b0f330    18\n",
       "                            ..\n",
       "6004a965e257124ec6b9a39f     1\n",
       "600746fd6e64691717e8cfb5     1\n",
       "60074b996e64691717e8f11a     1\n",
       "60074246325c8a12289e22a0     1\n",
       "60088e5d633aab121bb8e5cf     1\n",
       "Name: count, Length: 212, dtype: int64"
      ]
     },
     "execution_count": 21,
     "metadata": {},
     "output_type": "execute_result"
    }
   ],
   "source": [
    "usersData._id.value_counts()"
   ]
  },
  {
   "cell_type": "markdown",
   "metadata": {},
   "source": [
    "From above, found that there are duplicates in the User table."
   ]
  },
  {
   "cell_type": "code",
   "execution_count": 22,
   "metadata": {},
   "outputs": [],
   "source": [
    "d = {'CONSUMER':'CONSUMER',\n",
    "     'FETCH-STAFF': 'FETCH_STAFF'} # SQL converts \"-\" to \"_\"\n",
    "usersData.role = usersData.role.apply(lambda x: d[x])"
   ]
  },
  {
   "cell_type": "code",
   "execution_count": 23,
   "metadata": {},
   "outputs": [
    {
     "data": {
      "text/plain": [
       "212"
      ]
     },
     "execution_count": 23,
     "metadata": {},
     "output_type": "execute_result"
    }
   ],
   "source": [
    "usersData.drop_duplicates(inplace= True) #default use all columns to determine duplicate\n",
    "# Load data into database table `user`\n",
    "usersData.to_sql(name = \"User\", con=engine, if_exists='append', index=False)"
   ]
  },
  {
   "cell_type": "code",
   "execution_count": 24,
   "metadata": {},
   "outputs": [
    {
     "name": "stdout",
     "output_type": "stream",
     "text": [
      "148 user ids in Receipt table that doesn't have matched user ids in User tables\n",
      "\n"
     ]
    }
   ],
   "source": [
    "hset = set(usersData._id)\n",
    "unknownUserIds = []\n",
    "for idx, id in enumerate(receiptsData.userId):\n",
    "    if id not in hset:\n",
    "        unknownUserIds.append(id)\n",
    "print(\"{} user ids in Receipt table that doesn't have matched user ids in User tables\\n\".format(len(unknownUserIds)))"
   ]
  },
  {
   "cell_type": "code",
   "execution_count": 25,
   "metadata": {},
   "outputs": [
    {
     "name": "stdout",
     "output_type": "stream",
     "text": [
      "number of receipt id that has duplicate 0\n",
      "\n"
     ]
    },
    {
     "data": {
      "text/plain": [
       "6941"
      ]
     },
     "execution_count": 25,
     "metadata": {},
     "output_type": "execute_result"
    }
   ],
   "source": [
    "# b) Load receipt table into database\n",
    "print(\"number of receipt id that has duplicate {}\\n\".format(sum(receiptsData._id.value_counts() > 1)))\n",
    "receiptsData.to_sql(name = \"Receipt\", con=engine, if_exists='append', index=False)\n",
    "\n",
    "# c) Load Brand table into database\n",
    "brandsData.to_sql(name = \"Brand\", con=engine, if_exists='append', index=False)\n",
    "\n",
    "# d) Load ReceiptRewardItem into database\n",
    "rewardsReceiptItems.to_sql(name = \"ReceiptRewardItem\", con=engine, if_exists='append', index=False)"
   ]
  },
  {
   "cell_type": "markdown",
   "metadata": {},
   "source": [
    "## 2. Write queries that directly answer predetermined questions from a business stakeholder"
   ]
  },
  {
   "cell_type": "markdown",
   "metadata": {},
   "source": [
    "#### 2a. What are the top 5 brands by receipts scanned for most recent month?\n",
    "\n",
    "1. The most recent month in the dataset is \"2021-03\". However, none of the receipts scanned in this month have a brandCode in the receipt record. Unless I missed out that there is another column that could relate to the Brand data in the receipt table, we have to push back months to the most recent month that has receipts of non-missing brandCode to get the top five brands scanned for most recent month.  \n",
    "\n",
    "2. Use `query1`, it finds the most recent month that has receipts which has valid brandCode, and count the total number of receipts scanned that purchased items from each brand, then get the top 5 brands that has the highest number of receipts scanned.  \n",
    "The result shows that \"2021-02\" is the most recent month that has receipts with valid brandCode, and there are in total 3 such brands."
   ]
  },
  {
   "cell_type": "code",
   "execution_count": 26,
   "metadata": {},
   "outputs": [
    {
     "data": {
      "text/html": [
       "<div>\n",
       "<style scoped>\n",
       "    .dataframe tbody tr th:only-of-type {\n",
       "        vertical-align: middle;\n",
       "    }\n",
       "\n",
       "    .dataframe tbody tr th {\n",
       "        vertical-align: top;\n",
       "    }\n",
       "\n",
       "    .dataframe thead th {\n",
       "        text-align: right;\n",
       "    }\n",
       "</style>\n",
       "<table border=\"1\" class=\"dataframe\">\n",
       "  <thead>\n",
       "    <tr style=\"text-align: right;\">\n",
       "      <th></th>\n",
       "      <th>most_recent_month</th>\n",
       "    </tr>\n",
       "  </thead>\n",
       "  <tbody>\n",
       "    <tr>\n",
       "      <th>0</th>\n",
       "      <td>2021-03</td>\n",
       "    </tr>\n",
       "  </tbody>\n",
       "</table>\n",
       "</div>"
      ],
      "text/plain": [
       "  most_recent_month\n",
       "0           2021-03"
      ]
     },
     "execution_count": 26,
     "metadata": {},
     "output_type": "execute_result"
    }
   ],
   "source": [
    "query_to_df(engine, \"\"\"\n",
    "            SELECT DATE_FORMAT(MAX(dateScanned), '%Y-%m') AS most_recent_month \n",
    "            FROM ReceiptRewardItem\n",
    "            \"\"\")"
   ]
  },
  {
   "cell_type": "code",
   "execution_count": 27,
   "metadata": {},
   "outputs": [],
   "source": [
    "# What are the top 5 brands by receipts scanned for most recent month?\n",
    "query1 = \"\"\"\n",
    "    WITH \n",
    "        MostRecentMonth AS (\n",
    "            SELECT DATE_FORMAT(MAX(dateScanned), '%Y-%m') AS most_recent_month \n",
    "                    FROM ReceiptRewardItem  \n",
    "            WHERE ReceiptRewardItem.brandCode <> 'NULL'\n",
    "        )\n",
    "\n",
    "    SELECT COUNT(DISTINCT(receiptId)) as numReceipts,\n",
    "            brandCode,\n",
    "            (SELECT most_recent_month FROM MostRecentMonth) AS most_recent_month\n",
    "    FROM ReceiptRewardItem\n",
    "    WHERE brandCode <> 'NULL' AND \n",
    "        DATE_FORMAT(dateScanned, '%Y-%m') = (SELECT most_recent_month FROM MostRecentMonth)\n",
    "    GROUP BY brandCode\n",
    "    ORDER BY numReceipts DESC\n",
    "    LIMIT 5\n",
    "\"\"\""
   ]
  },
  {
   "cell_type": "code",
   "execution_count": 28,
   "metadata": {},
   "outputs": [
    {
     "data": {
      "text/html": [
       "<div>\n",
       "<style scoped>\n",
       "    .dataframe tbody tr th:only-of-type {\n",
       "        vertical-align: middle;\n",
       "    }\n",
       "\n",
       "    .dataframe tbody tr th {\n",
       "        vertical-align: top;\n",
       "    }\n",
       "\n",
       "    .dataframe thead th {\n",
       "        text-align: right;\n",
       "    }\n",
       "</style>\n",
       "<table border=\"1\" class=\"dataframe\">\n",
       "  <thead>\n",
       "    <tr style=\"text-align: right;\">\n",
       "      <th></th>\n",
       "      <th>numReceipts</th>\n",
       "      <th>brandCode</th>\n",
       "      <th>most_recent_month</th>\n",
       "    </tr>\n",
       "  </thead>\n",
       "  <tbody>\n",
       "    <tr>\n",
       "      <th>0</th>\n",
       "      <td>3</td>\n",
       "      <td>BRAND</td>\n",
       "      <td>2021-02</td>\n",
       "    </tr>\n",
       "    <tr>\n",
       "      <th>1</th>\n",
       "      <td>2</td>\n",
       "      <td>MISSION</td>\n",
       "      <td>2021-02</td>\n",
       "    </tr>\n",
       "    <tr>\n",
       "      <th>2</th>\n",
       "      <td>1</td>\n",
       "      <td>VIVA</td>\n",
       "      <td>2021-02</td>\n",
       "    </tr>\n",
       "  </tbody>\n",
       "</table>\n",
       "</div>"
      ],
      "text/plain": [
       "   numReceipts brandCode most_recent_month\n",
       "0            3     BRAND           2021-02\n",
       "1            2   MISSION           2021-02\n",
       "2            1      VIVA           2021-02"
      ]
     },
     "execution_count": 28,
     "metadata": {},
     "output_type": "execute_result"
    }
   ],
   "source": [
    "df = query_to_df(engine, query1)\n",
    "# df.sort_values(by= [\"dateScanned\"], ascending=False)\n",
    "df"
   ]
  },
  {
   "cell_type": "markdown",
   "metadata": {},
   "source": [
    "#### 2b. How does the ranking of the top 5 brands by receipts scanned for the recent month compare to the ranking for the previous month?\n",
    "\n",
    "Adopt a similar strategy, in the query below, it first find the second most recent month such that has receipts with brandCode. Then use it to filter out all receipts scanned in that month.\n",
    "The results show that the five brands that has the most receipts scanned are:  \n",
    "'BEN AND JERRYS', 'PEPSI', 'FOLGERS', 'KRAFT', \"KELLOGG'S\"\n",
    "\n",
    "Compared the the result from executing query1, \"BRAND\", \"MISSION\", \"VIVA\", they are no overlapps. \n",
    "The 5 brands has the most recetips scanned in the previous recent month are not in the list of the top 5 in the most recent month at all."
   ]
  },
  {
   "cell_type": "code",
   "execution_count": 29,
   "metadata": {},
   "outputs": [
    {
     "data": {
      "text/html": [
       "<div>\n",
       "<style scoped>\n",
       "    .dataframe tbody tr th:only-of-type {\n",
       "        vertical-align: middle;\n",
       "    }\n",
       "\n",
       "    .dataframe tbody tr th {\n",
       "        vertical-align: top;\n",
       "    }\n",
       "\n",
       "    .dataframe thead th {\n",
       "        text-align: right;\n",
       "    }\n",
       "</style>\n",
       "<table border=\"1\" class=\"dataframe\">\n",
       "  <thead>\n",
       "    <tr style=\"text-align: right;\">\n",
       "      <th></th>\n",
       "      <th>numReceipts</th>\n",
       "      <th>Top5</th>\n",
       "      <th>second_most_recent_month</th>\n",
       "    </tr>\n",
       "  </thead>\n",
       "  <tbody>\n",
       "    <tr>\n",
       "      <th>0</th>\n",
       "      <td>32</td>\n",
       "      <td>BEN AND JERRYS</td>\n",
       "      <td>2021-01</td>\n",
       "    </tr>\n",
       "    <tr>\n",
       "      <th>1</th>\n",
       "      <td>23</td>\n",
       "      <td>PEPSI</td>\n",
       "      <td>2021-01</td>\n",
       "    </tr>\n",
       "    <tr>\n",
       "      <th>2</th>\n",
       "      <td>23</td>\n",
       "      <td>FOLGERS</td>\n",
       "      <td>2021-01</td>\n",
       "    </tr>\n",
       "    <tr>\n",
       "      <th>3</th>\n",
       "      <td>22</td>\n",
       "      <td>KRAFT</td>\n",
       "      <td>2021-01</td>\n",
       "    </tr>\n",
       "    <tr>\n",
       "      <th>4</th>\n",
       "      <td>22</td>\n",
       "      <td>KELLOGG'S</td>\n",
       "      <td>2021-01</td>\n",
       "    </tr>\n",
       "  </tbody>\n",
       "</table>\n",
       "</div>"
      ],
      "text/plain": [
       "   numReceipts            Top5 second_most_recent_month\n",
       "0           32  BEN AND JERRYS                  2021-01\n",
       "1           23           PEPSI                  2021-01\n",
       "2           23         FOLGERS                  2021-01\n",
       "3           22           KRAFT                  2021-01\n",
       "4           22       KELLOGG'S                  2021-01"
      ]
     },
     "execution_count": 29,
     "metadata": {},
     "output_type": "execute_result"
    }
   ],
   "source": [
    "query2 = \"\"\"\n",
    "    WITH \n",
    "        SecondMostRecentMonth AS (\n",
    "            SELECT DISTINCT DATE_FORMAT(dateScanned, '%Y-%m') AS month \n",
    "                    FROM ReceiptRewardItem  \n",
    "            WHERE ReceiptRewardItem.brandCode <> 'NULL'\n",
    "            ORDER BY month DESC\n",
    "            LIMIT 1 OFFSET 1\n",
    "        )\n",
    "\n",
    "    SELECT COUNT(DISTINCT(receiptId)) as numReceipts,\n",
    "            brandCode as Top5,\n",
    "            (SELECT month FROM SecondMostRecentMonth) AS second_most_recent_month\n",
    "    FROM ReceiptRewardItem\n",
    "    WHERE brandCode <> 'NULL' AND \n",
    "            DATE_FORMAT(dateScanned, '%Y-%m') = (SELECT month FROM SecondMostRecentMonth)\n",
    "    GROUP BY brandCode\n",
    "    ORDER BY numReceipts DESC\n",
    "    LIMIT 5\n",
    "\"\"\"\n",
    "res2 = query_to_df(engine, query2)\n",
    "res2"
   ]
  },
  {
   "cell_type": "markdown",
   "metadata": {},
   "source": [
    "#### 2c. When considering average spend from receipts with 'rewardsReceiptStatus’ of ‘Accepted’ or ‘Rejected’, which is greater?\n",
    "\n",
    "Findings:   \n",
    "1. According to the values of rewardsReceiptStatus’:  \n",
    "    \"FINISHED\",  \n",
    "    \"SUBMITTED\",  \n",
    "    \"REJECTED\",   \n",
    "    \"PENDING\",   \n",
    "    \"FLAGGED\",   \n",
    "I can safely assume that \"FINISHED\" is equivalent to status \"Accepted\" \n",
    "2. According to the result of the following query, receipts with \"Accecpted\" reward status has higher average spend"
   ]
  },
  {
   "cell_type": "code",
   "execution_count": 30,
   "metadata": {},
   "outputs": [
    {
     "data": {
      "text/html": [
       "<div>\n",
       "<style scoped>\n",
       "    .dataframe tbody tr th:only-of-type {\n",
       "        vertical-align: middle;\n",
       "    }\n",
       "\n",
       "    .dataframe tbody tr th {\n",
       "        vertical-align: top;\n",
       "    }\n",
       "\n",
       "    .dataframe thead th {\n",
       "        text-align: right;\n",
       "    }\n",
       "</style>\n",
       "<table border=\"1\" class=\"dataframe\">\n",
       "  <thead>\n",
       "    <tr style=\"text-align: right;\">\n",
       "      <th></th>\n",
       "      <th>AVG(totalSpent)</th>\n",
       "      <th>rewardsReceiptStatus</th>\n",
       "    </tr>\n",
       "  </thead>\n",
       "  <tbody>\n",
       "    <tr>\n",
       "      <th>0</th>\n",
       "      <td>24.355146</td>\n",
       "      <td>REJECTED</td>\n",
       "    </tr>\n",
       "    <tr>\n",
       "      <th>1</th>\n",
       "      <td>81.167694</td>\n",
       "      <td>ACCEPTED</td>\n",
       "    </tr>\n",
       "  </tbody>\n",
       "</table>\n",
       "</div>"
      ],
      "text/plain": [
       "   AVG(totalSpent) rewardsReceiptStatus\n",
       "0        24.355146             REJECTED\n",
       "1        81.167694             ACCEPTED"
      ]
     },
     "execution_count": 30,
     "metadata": {},
     "output_type": "execute_result"
    }
   ],
   "source": [
    "query3 = \"\"\"\n",
    "    SELECT AVG(totalSpent), \n",
    "        CASE \n",
    "            WHEN rewardsReceiptStatus = 'FINISHED' THEN 'ACCEPTED'\n",
    "            ELSE rewardsReceiptStatus \n",
    "        END AS rewardsReceiptStatus \n",
    "    FROM Receipt\n",
    "    WHERE totalSpent <> 'NULL'\n",
    "    GROUP BY rewardsReceiptStatus\n",
    "    HAVING rewardsReceiptStatus = 'FINISHED' OR rewardsReceiptStatus = 'REJECTED'\n",
    "        \"\"\"\n",
    "query_to_df(conn=engine, query = query3)"
   ]
  },
  {
   "cell_type": "markdown",
   "metadata": {},
   "source": [
    "#### 2d. When considering total number of items purchased from receipts with 'rewardsReceiptStatus’ of ‘Accepted’ or ‘Rejected’, which is greater?\n",
    "\n",
    "\n",
    "\n",
    "Findings: \n",
    "1. 1. According to the values of rewardsReceiptStatus’:  \n",
    "    \"FINISHED\",  \n",
    "    \"SUBMITTED\",  \n",
    "    \"REJECTED\",   \n",
    "    \"PENDING\",  \n",
    "    \"FLAGGED\",   \n",
    "I can safely assume that \"FINISHED\" is equivalent to status \"Accepted\"   \n",
    "2. ##### According to the result of the following query, receipts with \"Accecpted\" reward status has higher total number of items purchaed"
   ]
  },
  {
   "cell_type": "code",
   "execution_count": 31,
   "metadata": {},
   "outputs": [
    {
     "data": {
      "text/html": [
       "<div>\n",
       "<style scoped>\n",
       "    .dataframe tbody tr th:only-of-type {\n",
       "        vertical-align: middle;\n",
       "    }\n",
       "\n",
       "    .dataframe tbody tr th {\n",
       "        vertical-align: top;\n",
       "    }\n",
       "\n",
       "    .dataframe thead th {\n",
       "        text-align: right;\n",
       "    }\n",
       "</style>\n",
       "<table border=\"1\" class=\"dataframe\">\n",
       "  <thead>\n",
       "    <tr style=\"text-align: right;\">\n",
       "      <th></th>\n",
       "      <th>Total</th>\n",
       "      <th>rewardsReceiptStatus</th>\n",
       "    </tr>\n",
       "  </thead>\n",
       "  <tbody>\n",
       "    <tr>\n",
       "      <th>0</th>\n",
       "      <td>173.0</td>\n",
       "      <td>REJECTED</td>\n",
       "    </tr>\n",
       "    <tr>\n",
       "      <th>1</th>\n",
       "      <td>8184.0</td>\n",
       "      <td>ACCEPTED</td>\n",
       "    </tr>\n",
       "  </tbody>\n",
       "</table>\n",
       "</div>"
      ],
      "text/plain": [
       "    Total rewardsReceiptStatus\n",
       "0   173.0             REJECTED\n",
       "1  8184.0             ACCEPTED"
      ]
     },
     "execution_count": 31,
     "metadata": {},
     "output_type": "execute_result"
    }
   ],
   "source": [
    "query4 = \"\"\"\n",
    "    SELECT SUM(purchasedItemCount) as Total, \n",
    "            CASE \n",
    "                WHEN rewardsReceiptStatus = 'FINISHED' THEN 'ACCEPTED'\n",
    "                ELSE rewardsReceiptStatus \n",
    "            END AS rewardsReceiptStatus  \n",
    "    FROM Receipt\n",
    "    WHERE purchasedItemCount <> 'NULL'\n",
    "    GROUP BY rewardsReceiptStatus\n",
    "    HAVING rewardsReceiptStatus = 'FINISHED' OR rewardsReceiptStatus = 'REJECTED'\n",
    "    \"\"\"\n",
    "query_to_df(conn=engine, query = query4)"
   ]
  },
  {
   "cell_type": "markdown",
   "metadata": {},
   "source": [
    "#### 2e. Which brand has the most spend among users who were created within the past 6 months?\n",
    "Assuming \"within the past 6 months\" include current month. \n",
    "\n",
    "Considerations:  \n",
    "i. if consider the current month is same as the month of today, the query I would use is:   \n",
    "\"\"\"  \n",
    "    WITH  \n",
    "        receiptsOfRecentUsers AS (  \n",
    "        Select r._id, r.totalSpent, u.createdDate  \n",
    "        FROM receipt AS r LEFT JOIN user as u ON r.userId = u._id  \n",
    "        WHERE DATE_FORMAT(u.createdDate, '%Y-%m') >= DATE_FORMAT(DATE_SUB(curdate(), INTERVAL 5 MONTH), '%Y-%m')  \n",
    "        )  \n",
    "    SELECT item.brandCode, ROUND(SUM(r.totalSpent), 2) AS Total  \n",
    "    FROM receiptsOfRecentUsers AS r  \n",
    "    LEFT JOIN ReceiptRewardItem AS item ON r._id = item.receiptId\n",
    "    WHERE item.brandCode <> 'NULL'\n",
    "    GROUP BY item.brandCode\n",
    "    ORDER BY Total DESC\n",
    "    LIMIT 1;  \n",
    "\"\"\"  \n",
    "   \n",
    "ii. However, I found that the data given is up tp \"2021-03\" based on both the createdDate in User table, and the scannedDate in Receipt table.  \n",
    "\n",
    "Therefore, based on the given data:  \n",
    "How do I define \"past 6 month\": assuming the most recent month in the dataset is the most recent moneth, which is \"2021-03\". \n",
    "The most recent month by dateScanned in receipt table is \"2021-03\", them most recent month by createdDate in user table is \"2021-02\", so I pick the maximum among the two as the most recent month.\n",
    "\n",
    "Then I trace backward 5 months and include the most recent month, therefore the past 6 months are from \"2020-10\" to \"2021-03\".  \n",
    "\n",
    "ii. Filter out all receipts that were scanned by users created within the past 6 months \n",
    " \n",
    "iii. Join these receipts with items, group by brand, and sum up the total spent\n",
    "\n",
    "\n",
    "##### Finding(s): 'BEN AND JERRYS' is the brand has the most total spend among users who were created within the past 6 months.\n"
   ]
  },
  {
   "cell_type": "code",
   "execution_count": 32,
   "metadata": {},
   "outputs": [
    {
     "data": {
      "text/html": [
       "<div>\n",
       "<style scoped>\n",
       "    .dataframe tbody tr th:only-of-type {\n",
       "        vertical-align: middle;\n",
       "    }\n",
       "\n",
       "    .dataframe tbody tr th {\n",
       "        vertical-align: top;\n",
       "    }\n",
       "\n",
       "    .dataframe thead th {\n",
       "        text-align: right;\n",
       "    }\n",
       "</style>\n",
       "<table border=\"1\" class=\"dataframe\">\n",
       "  <thead>\n",
       "    <tr style=\"text-align: right;\">\n",
       "      <th></th>\n",
       "      <th>brandCode</th>\n",
       "      <th>Total</th>\n",
       "    </tr>\n",
       "  </thead>\n",
       "  <tbody>\n",
       "    <tr>\n",
       "      <th>0</th>\n",
       "      <td>BEN AND JERRYS</td>\n",
       "      <td>197337.68</td>\n",
       "    </tr>\n",
       "  </tbody>\n",
       "</table>\n",
       "</div>"
      ],
      "text/plain": [
       "        brandCode      Total\n",
       "0  BEN AND JERRYS  197337.68"
      ]
     },
     "execution_count": 32,
     "metadata": {},
     "output_type": "execute_result"
    }
   ],
   "source": [
    "query5 = \"\"\"\n",
    "    WITH maxMonth AS (\n",
    "        SELECT MAX(month) AS max_month\n",
    "        FROM (\n",
    "            (SELECT dateScanned AS month\n",
    "            FROM Receipt\n",
    "            ORDER BY dateScanned DESC\n",
    "            LIMIT 1)\n",
    "            UNION ALL\n",
    "            (SELECT createdDate AS month\n",
    "            FROM User\n",
    "            ORDER BY createdDate DESC\n",
    "            LIMIT 1)\n",
    "            ) AS combined_results\n",
    "        ),\n",
    "        receiptsOfRecentUsers AS (\n",
    "            SELECT r._id, r.totalSpent, u.createdDate\n",
    "            FROM Receipt AS r\n",
    "            LEFT JOIN User AS u ON r.userId = u._id\n",
    "            WHERE DATE_FORMAT(u.createdDate, '%Y-%m') >= (SELECT DATE_FORMAT(DATE_SUB(max_month, INTERVAL 5 MONTH), '%Y-%m') FROM maxMonth)\n",
    "        )\n",
    "    SELECT item.brandCode, ROUND(SUM(r.totalSpent), 2) AS Total\n",
    "    FROM receiptsOfRecentUsers AS r\n",
    "    LEFT JOIN ReceiptRewardItem AS item ON r._id = item.receiptId\n",
    "    WHERE item.brandCode <> 'NULL'\n",
    "    GROUP BY item.brandCode\n",
    "    ORDER BY Total DESC\n",
    "    LIMIT 1;\n",
    "    \"\"\"\n",
    "query_to_df(conn=engine, query = query5)"
   ]
  },
  {
   "cell_type": "markdown",
   "metadata": {},
   "source": [
    "#### 2f. Which brand has the most transactions among users who were created within the past 6 months?  \n",
    "Assuming \"within the past 6 months\" include current month  \n",
    "\n",
    "Considerations\n",
    "i. if consider the current month is same as the month of today, the query I would use is:   \n",
    "\"\"\"  \n",
    "    WITH  \n",
    "        receiptsOfRecentUsers AS (  \n",
    "        Select r._id, r.totalSpent, u.createdDate  \n",
    "        FROM receipt AS r LEFT JOIN user as u ON r.userId = u._id  \n",
    "        WHERE DATE_FORMAT(u.createdDate, '%Y-%m') >= DATE_FORMAT(DATE_SUB(curdate(), INTERVAL 5 MONTH), '%Y-%m')  \n",
    "        )  \n",
    "    SELECT item.brandCode, COUNT(*) as Total  \n",
    "        FROM receiptsOfRecentUsers AS r LEFT JOIN ReceiptRewardItem AS item  \n",
    "            ON r._id = item.receiptId  \n",
    "        WHERE item.brandCode <> 'NULL'  \n",
    "        GROUP BY item.brandCode  \n",
    "        ORDER BY Total DESC  \n",
    "        LIMIT 1  \n",
    "\"\"\"  \n",
    "ii. However, I found that the data given is up tp \"2021-03\" based on both the createdDate in User table, and the scannedDate in Receipt table.\n",
    "Therefore, based on the given data:  \n",
    "\n",
    "How do I define \"past 6 month\": starting for the most recent month in the dataset is the most recent month, then trace backward 6 months and include the most recent month.\n",
    "\n",
    "And the correcsponding query is shown as stored in `query6`\n",
    "\n",
    "##### Findings: \"HY-VEE\" is the brand with the most transactions among users who were created within the past 6 months."
   ]
  },
  {
   "cell_type": "code",
   "execution_count": 33,
   "metadata": {},
   "outputs": [
    {
     "data": {
      "text/html": [
       "<div>\n",
       "<style scoped>\n",
       "    .dataframe tbody tr th:only-of-type {\n",
       "        vertical-align: middle;\n",
       "    }\n",
       "\n",
       "    .dataframe tbody tr th {\n",
       "        vertical-align: top;\n",
       "    }\n",
       "\n",
       "    .dataframe thead th {\n",
       "        text-align: right;\n",
       "    }\n",
       "</style>\n",
       "<table border=\"1\" class=\"dataframe\">\n",
       "  <thead>\n",
       "    <tr style=\"text-align: right;\">\n",
       "      <th></th>\n",
       "      <th>brandCode</th>\n",
       "      <th>Total</th>\n",
       "    </tr>\n",
       "  </thead>\n",
       "  <tbody>\n",
       "    <tr>\n",
       "      <th>0</th>\n",
       "      <td>HY-VEE</td>\n",
       "      <td>291</td>\n",
       "    </tr>\n",
       "  </tbody>\n",
       "</table>\n",
       "</div>"
      ],
      "text/plain": [
       "  brandCode  Total\n",
       "0    HY-VEE    291"
      ]
     },
     "execution_count": 33,
     "metadata": {},
     "output_type": "execute_result"
    }
   ],
   "source": [
    "query6 = \"\"\"\n",
    "    WITH maxMonth AS (\n",
    "        SELECT MAX(month) AS max_month\n",
    "        FROM (\n",
    "            (SELECT dateScanned AS month\n",
    "            FROM Receipt\n",
    "            ORDER BY dateScanned DESC\n",
    "            LIMIT 1)\n",
    "            UNION ALL\n",
    "            (SELECT createdDate AS month\n",
    "            FROM User\n",
    "            ORDER BY createdDate DESC\n",
    "            LIMIT 1)\n",
    "            ) AS combined_results\n",
    "        ), \n",
    "        receiptsOfRecentUsers AS (\n",
    "        Select r._id, r.totalSpent, u.createdDate\n",
    "        FROM Receipt AS r LEFT JOIN User as u ON r.userId = u._id\n",
    "        WHERE DATE_FORMAT(u.createdDate, '%Y-%m') >= (SELECT DATE_FORMAT(DATE_SUB(max_month, INTERVAL 6 MONTH), '%Y-%m') FROM maxMonth)\n",
    "        )\n",
    "\n",
    "    SELECT item.brandCode, COUNT(*) as Total\n",
    "        FROM receiptsOfRecentUsers AS r LEFT JOIN ReceiptRewardItem AS item\n",
    "            ON r._id = item.receiptId\n",
    "        WHERE item.brandCode <> 'NULL'\n",
    "        GROUP BY item.brandCode\n",
    "        ORDER BY Total DESC\n",
    "        LIMIT 1\n",
    "    \"\"\"\n",
    "query_to_df(conn=engine, query = query6)"
   ]
  },
  {
   "cell_type": "markdown",
   "metadata": {},
   "source": [
    "## 3. Data Quality Issues Evaluation"
   ]
  },
  {
   "cell_type": "markdown",
   "metadata": {},
   "source": [
    "Summary:\n",
    "\n",
    "a. There are Users who submitted receipts but do not have records in the User table  \n",
    "\n",
    "b. Duplicate Users exist in the User table  \n",
    "\n",
    "c. There are a lot of receipt reward items that don't have a brandCode or a field that could be mapped to an existing Brand record.  \n",
    "This creates challenges to retrieve analysis summary related to brands  \n",
    "\n",
    "d. There's no id assigned for each reward items  \n",
    "\n",
    "e. Overlapping Brand categories: such as \"Dairy\" and \"Dairy and Refrigerated\"\n",
    "\n",
    "f. In the receipt table, the values under column, `rewardsReceiptStatus` are confusing.\n",
    "Currently, rewardsReceiptStatus values are 'FINISHED', 'REJECTED', 'FLAGGED', 'SUBMITTED', 'PENDING'\n",
    "Based on questions on part 3, with assumption that these status should be exlusive of each other, I assume that 'FINISHED' means\n",
    "a status that a receipt which has been scanned but it was not rejected, not flagged, not pending, and therefore, I inferred this \n",
    "staus to be equivalent as \"ACCEPTED\". However, this naming 'FINISHED' is confusing and if what I inferred is correct, this status\n",
    "should be changed to 'ACCEPTED'.\n",
    "\n",
    "[code used to find above quality issues are listed below]"
   ]
  },
  {
   "cell_type": "code",
   "execution_count": 34,
   "metadata": {},
   "outputs": [
    {
     "name": "stdout",
     "output_type": "stream",
     "text": [
      "148 user ids in Receipt table that doesn't have matched user ids in User tables\n",
      "\n"
     ]
    }
   ],
   "source": [
    "# 3a. There are Users who submitted receipts but do not have records in the User table\n",
    "\n",
    "hset = set(usersData._id)\n",
    "unknownUserIds = []\n",
    "for idx, id in enumerate(receiptsData.userId):\n",
    "    if id not in hset:\n",
    "        unknownUserIds.append(id)\n",
    "print(\"{} user ids in Receipt table that doesn't have matched user ids in User tables\\n\".format(len(unknownUserIds)))\n"
   ]
  },
  {
   "cell_type": "code",
   "execution_count": 35,
   "metadata": {},
   "outputs": [
    {
     "name": "stdout",
     "output_type": "stream",
     "text": [
      "70 user user ids that has duplicate in the User table\n",
      "\n"
     ]
    }
   ],
   "source": [
    "# 3b. Duplicate Users exist in the User table  \n",
    "# using code below we see that there are 70 user ids that has duplicate in the User table\n",
    "num_dup_uids = sum(dataDict[\"users\"][\"_id.$oid\"].value_counts() > 1)\n",
    "print(\"{} user user ids that has duplicate in the User table\\n\".format(num_dup_uids))\n"
   ]
  },
  {
   "cell_type": "code",
   "execution_count": 36,
   "metadata": {},
   "outputs": [
    {
     "name": "stdout",
     "output_type": "stream",
     "text": [
      "62.54 % of reward items don't have a brandCode\n",
      "55.48 % of reward items don't have a barcode\n"
     ]
    }
   ],
   "source": [
    "# 3c. There are a lot of receipt reward items that don't have a brandCode or a field that could be mapped to an existing Brand record\n",
    "# makes it hard to perform analysis related to brands\n",
    "missing_brandcode_percentage = sum(rewardsReceiptItems.brandCode.isna())/rewardsReceiptItems.shape[0] * 100\n",
    "missing_barcode_percentage = sum(rewardsReceiptItems.barcode.isna())/rewardsReceiptItems.shape[0] * 100\n",
    "\n",
    "print(\"{} % of reward items don't have a brandCode\\n{} % of reward items don't have a barcode\".format(round(missing_brandcode_percentage, 2), round(missing_barcode_percentage, 2)))\n"
   ]
  },
  {
   "cell_type": "code",
   "execution_count": 37,
   "metadata": {},
   "outputs": [
    {
     "name": "stdout",
     "output_type": "stream",
     "text": [
      "\n",
      "During extracting receipt reward items, found 440 receipts that has missing value in column 'receiptsRewordsItemList'\n",
      "\n",
      "Matched with actual missing values in the column: True\n",
      "\n",
      "Total number of receipt rewards items extracted: 6941\n",
      "\n",
      "\n"
     ]
    }
   ],
   "source": [
    "# 3d. There's no id assigned for each reward items  \n",
    "# Refer back to part 1, where the reward items are extracted from the Receipt table's column ``\n",
    "\n",
    "rewardsReceiptItemsLst = []\n",
    "num_nan = 0\n",
    "\n",
    "\n",
    "def normalize_rewardsReceiptItems(row, dest = rewardsReceiptItemsLst):\n",
    "    \"\"\"\n",
    "    Extract 'reward receipt item' from column `rewardsReceiptItemList`\n",
    "    and map receipt id to each item.\n",
    "\n",
    "    Args:\n",
    "        row(Pandas series): a pandas series sliced from a dataframe as a row\n",
    "        dest(list): a list where each processed item will be appended to\n",
    "    \n",
    "    Returns:\n",
    "        None\n",
    "    \"\"\"\n",
    "    global num_nan\n",
    "    receipt_id = row[\"_id\"]\n",
    "    rewardsReceiptItemList = row[\"rewardsReceiptItemList\"]\n",
    "    if pd.isna(rewardsReceiptItemList).all() if isinstance(rewardsReceiptItemList, (list, pd.Series)) else pd.isna(rewardsReceiptItemList):\n",
    "        num_nan += 1\n",
    "        return \n",
    "    new_row = pd.json_normalize(rewardsReceiptItemList)\n",
    "    new_row[\"receiptId\"] = receipt_id\n",
    "    dest.append(new_row)\n",
    "\n",
    "\n",
    "# Load raw processed data from dataDict\n",
    "receiptsData = dataDict[\"receipts\"]\n",
    "\n",
    "# Clean receipt table columns\n",
    "receiptsDataRenameCols = {col: cleanColName(col) for col in receiptsData.columns if \".\" in col}\n",
    "receiptsData = receiptsData.rename(columns=receiptsDataRenameCols)\n",
    "\n",
    "# Convert all date columns to date object\n",
    "for col in ['createDate', 'dateScanned',\n",
    "        'finishedDate', 'modifyDate', \n",
    "        'pointsAwardedDate', 'purchaseDate']:\n",
    "    receiptsData[col] = pd.to_datetime(receiptsData[col], unit=\"ms\")\n",
    "\n",
    "receiptsData.apply(normalize_rewardsReceiptItems, axis = 1)\n",
    "rewardsReceiptItems = pd.concat(rewardsReceiptItemsLst, ignore_index= True)\n",
    "\n",
    "actual_nan_rri = receiptsData[\"_id\"].count() - receiptsData.rewardsReceiptItemList.count()\n",
    "\n",
    "report1 = \"\"\"\n",
    "During extracting receipt reward items, found {} receipts that has missing value in column 'receiptsRewordsItemList'\\n\n",
    "Matched with actual missing values in the column: {}\\n\n",
    "Total number of receipt rewards items extracted: {}\\n\n",
    "\"\"\"\n",
    "print(report1.format(num_nan, actual_nan_rri == num_nan, rewardsReceiptItems.shape[0] ))"
   ]
  },
  {
   "cell_type": "code",
   "execution_count": 38,
   "metadata": {},
   "outputs": [
    {
     "data": {
      "text/plain": [
       "['partnerItemId',\n",
       " 'receiptId',\n",
       " 'pointsPayerId',\n",
       " 'rewardsProductPartnerId',\n",
       " 'brandCode',\n",
       " 'metabriteCampaignId']"
      ]
     },
     "execution_count": 38,
     "metadata": {},
     "output_type": "execute_result"
    }
   ],
   "source": [
    "cols_contains_id = [col for col in rewardsReceiptItems.columns if \"id\" in col.lower() or \"brand\" in col.lower()]\n",
    "cols_contains_id"
   ]
  },
  {
   "cell_type": "code",
   "execution_count": 39,
   "metadata": {},
   "outputs": [
    {
     "name": "stdout",
     "output_type": "stream",
     "text": [
      "Among reward receipt items: \n",
      "\n",
      "None of the columns has value matched with brand id\n",
      "In brandCode colume, among 898 unique values, found 42 matched brand codes\n",
      "\n",
      "In barCode colume, among 1160 unique values, found 16 matched barcodes\n",
      "\n"
     ]
    }
   ],
   "source": [
    "print(\"Among reward receipt items: \\n\")\n",
    "matches = []\n",
    "matchesDict = {}\n",
    "for potential_match_col in cols_contains_id:\n",
    "    for id in rewardsReceiptItems[potential_match_col]:\n",
    "        if id in brandsData._id:\n",
    "            matches.append(idx)\n",
    "    if len(matches) > 1:\n",
    "        matchesDict[potential_match_col] = matches\n",
    "if len(matchesDict) > 1:\n",
    "    for key, lst in matchesDict.items():\n",
    "        print(\"In {} colume found {} matched brand id\\n\".format(key, len(lst)))\n",
    "else:\n",
    "    print(\"None of the columns has value matched with brand id\")\n",
    "\n",
    "brandCodeSet = set(brandsData.brandCode)\n",
    "matchedBrands = set()\n",
    "matchedBrandIndices = []\n",
    "\n",
    "for idx,code in enumerate(rewardsReceiptItems['brandCode']):\n",
    "    if code in brandCodeSet:\n",
    "        matchedBrands.add(code)\n",
    "        matchedBrandIndices.append(idx)\n",
    "print(\"In {} colume, among {} unique values, found {} matched brand codes\\n\".format('brandCode', len(brandCodeSet), len(matchedBrands)))\n",
    "\n",
    "barcodeSet = set(brandsData.barcode)\n",
    "matchedBarcode = set()\n",
    "matchedBarcodeIndices = []\n",
    "for idx,code in enumerate(rewardsReceiptItems['barcode']):\n",
    "    if code in barcodeSet:\n",
    "        matchedBarcode.add(code)\n",
    "        matchedBarcodeIndices.append(idx)\n",
    "print(\"In {} colume, among {} unique values, found {} matched barcodes\\n\".format('barCode', len(barcodeSet), len(matchedBarcode)))"
   ]
  },
  {
   "cell_type": "code",
   "execution_count": 40,
   "metadata": {},
   "outputs": [
    {
     "data": {
      "text/plain": [
       "0"
      ]
     },
     "execution_count": 40,
     "metadata": {},
     "output_type": "execute_result"
    }
   ],
   "source": [
    "len([i for i in range(rewardsReceiptItems.shape[0]) if i not in matchedBrandIndices and i in matchedBarcodeIndices])\n",
    "# This means that there's no item that doesn't have a matched brand code but has a matched barcode"
   ]
  },
  {
   "cell_type": "code",
   "execution_count": 41,
   "metadata": {},
   "outputs": [
    {
     "data": {
      "text/plain": [
       "array(['Baking', 'Beverages', 'Candy & Sweets', 'Condiments & Sauces',\n",
       "       'Canned Goods & Soups', nan, 'Magazines', 'Breakfast & Cereal',\n",
       "       'Beer Wine Spirits', 'Health & Wellness', 'Beauty', 'Baby',\n",
       "       'Frozen', 'Grocery', 'Snacks', 'Household', 'Personal Care',\n",
       "       'Dairy', 'Cleaning & Home Improvement', 'Deli',\n",
       "       'Beauty & Personal Care', 'Bread & Bakery', 'Outdoor',\n",
       "       'Dairy & Refrigerated'], dtype=object)"
      ]
     },
     "execution_count": 41,
     "metadata": {},
     "output_type": "execute_result"
    }
   ],
   "source": [
    "#3e.  Overlapping Brand categories in Brand table\n",
    "brandsData.category.unique()"
   ]
  },
  {
   "cell_type": "code",
   "execution_count": 42,
   "metadata": {},
   "outputs": [
    {
     "data": {
      "text/plain": [
       "array(['FINISHED', 'REJECTED', 'FLAGGED', 'SUBMITTED', 'PENDING'],\n",
       "      dtype=object)"
      ]
     },
     "execution_count": 42,
     "metadata": {},
     "output_type": "execute_result"
    }
   ],
   "source": [
    "# 3f. In the receipt table, values used in column `rewardsReceiptStatus` are confusing.\n",
    "receiptsData.rewardsReceiptStatus.unique()"
   ]
  },
  {
   "cell_type": "markdown",
   "metadata": {},
   "source": [
    "## 4. Communicate with Stakeholders\n",
    "\n",
    "Hi, dear product manager/ business analytics manager,\n",
    "\n",
    "After reviewing the three data tables you shared with me, I have a few questions and observations regarding the data quality and analysis process:\n",
    "\n",
    "- User Data Consistency:\n",
    "    - Question: Are guest users allowed to submit scanned receipts, or is the User table an outdated version that could possibly not include all users?\n",
    "    - Observation: I found user IDs in the Receipt table that do not exist in the User table, which raises concerns about data consistency.  \n",
    "\n",
    "- Brand Code Accuracy:\n",
    "    - Observation: Many reward items listed in receipts do not have a brand code, which can bias our results when identifying the \"top k\" brands.\n",
    "    - Question: \n",
    "        - Do we have a list of reward items that I could store them to the database for easier lookup?\n",
    "        - Do we have strategies or plans to improve the accuracy of brand labeling for future analyses? Are there new policies to handle unlabeled or mislabeled items?\n",
    "\n",
    "- Brand Categories Issues:\n",
    "    - Observation: found categories overlapped: \"Dairy\" and \"Dairy and Refrigerated\"\n",
    "    - Question: may I have your approval to group \"Dairy\" brands into \"Dairy and Refrigerated\"?\n",
    "\n",
    "- Frequency of Analysis:\n",
    "    - Question: How often would you like me to run and report this analysis?\n",
    "    - Suggestion: If the analysis is reported monthly, we could cache the data for the past 6 months to avoid repeated data loading. For weekly reports, creating a receipt-item table could reduce the need for complex joins. \n",
    "\n",
    "- Key Performance Metrics:\n",
    "\n",
    "    - Question: What are the key performance metrics we use to measure the success of our product?\n",
    "\n",
    "\n",
    "Thank you for your attention to these matters. I look forward to your insights and guidance.\n",
    "\n",
    "\n"
   ]
  }
 ],
 "metadata": {
  "kernelspec": {
   "display_name": "base",
   "language": "python",
   "name": "python3"
  },
  "language_info": {
   "codemirror_mode": {
    "name": "ipython",
    "version": 3
   },
   "file_extension": ".py",
   "mimetype": "text/x-python",
   "name": "python",
   "nbconvert_exporter": "python",
   "pygments_lexer": "ipython3",
   "version": "3.11.5"
  }
 },
 "nbformat": 4,
 "nbformat_minor": 2
}
